{
 "cells": [
  {
   "cell_type": "code",
   "execution_count": 34,
   "metadata": {},
   "outputs": [],
   "source": [
    "\n",
    "from sklearn.model_selection import train_test_split\n",
    "import pandas as pd\n",
    "from sklearn.decomposition import PCA\n",
    "import pandas as pd\n",
    "from sklearn.decomposition import PCA\n",
    "from sklearn.preprocessing import LabelEncoder, StandardScaler\n",
    "import matplotlib.pyplot as plt\n",
    "from sklearn.svm import SVC"
   ]
  },
  {
   "cell_type": "code",
   "execution_count": 50,
   "metadata": {},
   "outputs": [
    {
     "name": "stdout",
     "output_type": "stream",
     "text": [
      "             0         1  TENURE\n",
      "0    -0.786173  0.422114      12\n",
      "1    -0.278329 -0.803393      12\n",
      "2     0.255916 -0.630364      12\n",
      "3     0.277478  0.873840      12\n",
      "4    -0.510060 -0.341918      12\n",
      "...        ...       ...     ...\n",
      "8945 -0.542699 -0.074328       6\n",
      "8946 -0.541276 -0.070474       6\n",
      "8947 -0.758142  0.389568       6\n",
      "8948 -0.803969  0.375511       6\n",
      "8949 -0.157726  1.060230       6\n",
      "\n",
      "[8950 rows x 3 columns]\n"
     ]
    }
   ],
   "source": [
    "\n",
    "cc=pd.read_csv('D:/UCM/ML/datasets/cc.csv')\n",
    " \n",
    "x = cc.iloc[:,[1,2,3,4]]\n",
    "y = cc.iloc[:,-1]\n",
    "\n",
    "from sklearn.preprocessing import StandardScaler\n",
    "scaler = StandardScaler()\n",
    "# Fit on training set only.\n",
    "scaler.fit(x)\n",
    "\n",
    "# Apply transform to both the training set and the test set.\n",
    "x_scaler = scaler.transform(x)\n",
    "pca = PCA(2)\n",
    "x_pca = pca.fit_transform(x_scaler)\n",
    "df2 = pd.DataFrame(data=x_pca)\n",
    "finaldf = pd.concat([df2,cc[['TENURE']]],axis=1)\n",
    "print(finaldf)\n",
    " "
   ]
  },
  {
   "cell_type": "code",
   "execution_count": 25,
   "metadata": {},
   "outputs": [
    {
     "name": "stderr",
     "output_type": "stream",
     "text": [
      "c:\\Users\\Veerendra Kumar\\AppData\\Local\\Programs\\Python\\Python310\\lib\\site-packages\\sklearn\\cluster\\_kmeans.py:870: FutureWarning: The default value of `n_init` will change from 10 to 'auto' in 1.4. Set the value of `n_init` explicitly to suppress the warning\n",
      "  warnings.warn(\n"
     ]
    },
    {
     "name": "stdout",
     "output_type": "stream",
     "text": [
      "0.6024088993073647\n"
     ]
    },
    {
     "data": {
      "image/png": "[encoded data removed]",
      "text/plain": [
       "<Figure size 640x480 with 1 Axes>"
      ]
     },
     "metadata": {},
     "output_type": "display_data"
    }
   ],
   "source": [
    "from sklearn import preprocessing\n",
    "scaler = preprocessing.StandardScaler()\n",
    "scaler.fit(x)\n",
    "X_scaled_array = scaler.transform(x)\n",
    "X_scaled = pd.DataFrame(X_scaled_array, columns = x.columns)\n",
    "\n",
    "from sklearn.cluster import KMeans\n",
    "nclusters = 3 # this is the k in kmeans\n",
    "km = KMeans(n_clusters=nclusters)\n",
    "km.fit(x)\n",
    "\n",
    "# predict the cluster for each data point\n",
    "y_cluster_kmeans = km.predict(x)\n",
    "from sklearn import metrics\n",
    "score = metrics.silhouette_score(x, y_cluster_kmeans)\n",
    "print(score)\n",
    "\n",
    "\n",
    "wcss = []\n",
    "for i in range(1,11):\n",
    "    kmeans = KMeans(n_clusters=i,init='k-means++',max_iter=300,n_init=10,random_state=0)\n",
    "    kmeans.fit(x)\n",
    "    wcss.append(kmeans.inertia_)\n",
    "\n",
    "plt.plot(range(1,11),wcss)\n",
    "plt.title('the elbow method')\n",
    "plt.xlabel('Number of Clusters')\n",
    "plt.ylabel('Wcss')\n",
    "plt.show()\n"
   ]
  },
  {
   "cell_type": "code",
   "execution_count": 51,
   "metadata": {},
   "outputs": [
    {
     "name": "stdout",
     "output_type": "stream",
     "text": [
      "             0         1      DFA\n",
      "0    -0.786173  0.422114  0.71826\n",
      "1    -0.278329 -0.803393  0.69481\n",
      "2     0.255916 -0.630364  0.67604\n",
      "3     0.277478  0.873840  0.79672\n",
      "4    -0.510060 -0.341918  0.79782\n",
      "...        ...       ...      ...\n",
      "8945 -0.542699 -0.074328      NaN\n",
      "8946 -0.541276 -0.070474      NaN\n",
      "8947 -0.758142  0.389568      NaN\n",
      "8948 -0.803969  0.375511      NaN\n",
      "8949 -0.157726  1.060230      NaN\n",
      "\n",
      "[8950 rows x 3 columns]\n",
      "Test accuracy: 0.74\n"
     ]
    }
   ],
   "source": [
    "pd_speech=pd.read_csv('D:/UCM/ML/datasets/pd_speech_features.csv')\n",
    "pd_speech\n",
    "X = pd_speech.iloc[:, 1:-1]  \n",
    "y = pd_speech.iloc[:, -1]  \n",
    "from sklearn.model_selection import train_test_split\n",
    "from sklearn.preprocessing import StandardScaler\n",
    "scaler = StandardScaler()\n",
    "# Fit on training set only.\n",
    "scaler.fit(x)\n",
    "\n",
    "# Apply transform to both the training set and the test set.\n",
    "x_scaler = scaler.transform(x)\n",
    "pca = PCA(2)\n",
    "x_pca = pca.fit_transform(x_scaler)\n",
    "df2 = pd.DataFrame(data=x_pca)\n",
    "finaldf = pd.concat([df2,pd_speech[['DFA']]],axis=1)\n",
    "print(finaldf)\n",
    "\n",
    "from sklearn.svm import SVC\n",
    "X_train, X_test, y_train, y_test = train_test_split(X, y, test_size=0.2, random_state=42)\n",
    "svm = SVC()\n",
    "\n",
    " \n",
    "svm.fit(X_train, y_train)\n",
    "# Evaluate the performance of the SVM model on the testing data\n",
    "accuracy = svm.score(X_test, y_test)\n",
    "print(f'Test accuracy: {accuracy:.2f}')\n"
   ]
  },
  {
   "cell_type": "code",
   "execution_count": 52,
   "metadata": {},
   "outputs": [
    {
     "name": "stdout",
     "output_type": "stream",
     "text": [
      "Explained Variance Ratio: [0.98709288 0.01290712]\n",
      "        LDA1      LDA2      Species\n",
      "0 -10.036763 -0.451330  Iris-setosa\n",
      "1  -9.172930 -1.477234  Iris-setosa\n",
      "2  -9.480989 -0.979693  Iris-setosa\n",
      "3  -8.818119 -1.408602  Iris-setosa\n",
      "4  -9.960200 -0.112546  Iris-setosa\n"
     ]
    }
   ],
   "source": [
    "import pandas as pd\n",
    "import numpy as np\n",
    "from sklearn.discriminant_analysis import LinearDiscriminantAnalysis\n",
    "iris = pd.read_csv('D:/UCM/ML/datasets/iris.csv')\n",
    "X = iris.iloc[:, :-1]\n",
    "y = iris.iloc[:, -1]\n",
    "lda = LinearDiscriminantAnalysis(n_components=2)\n",
    "X_lda = lda.fit_transform(X, y)\n",
    "print(\"Explained Variance Ratio:\", lda.explained_variance_ratio_)\n",
    "df_lda = pd.DataFrame(data=X_lda, columns=['LDA1', 'LDA2'])\n",
    "final_df = pd.concat([df_lda, y], axis=1)\n",
    "print(final_df.head())\n"
   ]
  }
 ],
 "metadata": {
  "kernelspec": {
   "display_name": "Python 3",
   "language": "python",
   "name": "python3"
  },
  "language_info": {
   "name": "python",
   "version": "3.10.9"
  },
  "orig_nbformat": 4
 },
 "nbformat": 4,
 "nbformat_minor": 2
}
